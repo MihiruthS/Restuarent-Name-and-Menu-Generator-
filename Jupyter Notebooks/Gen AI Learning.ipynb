{
 "cells": [
  {
   "cell_type": "code",
   "execution_count": 8,
   "id": "545a3edf-92eb-40b4-b7de-027490aa0efd",
   "metadata": {},
   "outputs": [],
   "source": [
    "import pprint\n",
    "from secret_key import palm_key\n",
    "import google.generativeai as palm\n",
    "palm.configure(api_key=palm_key)"
   ]
  },
  {
   "cell_type": "code",
   "execution_count": 9,
   "id": "c9d1f4b0-11b9-4248-909a-9d251775b504",
   "metadata": {},
   "outputs": [
    {
     "name": "stdout",
     "output_type": "stream",
     "text": [
      "models/text-bison-001\n"
     ]
    }
   ],
   "source": [
    "models = [m for m in palm.list_models() if 'generateText' in m.supported_generation_methods]\n",
    "model = models[0].name\n",
    "print(model)"
   ]
  },
  {
   "cell_type": "code",
   "execution_count": 12,
   "id": "a07b180c-658a-4cb5-97fe-e76f76eb2a61",
   "metadata": {},
   "outputs": [
    {
     "name": "stdout",
     "output_type": "stream",
     "text": [
      "* **Il Forno** (The Oven)\n",
      "* **La Trattoria** (The Trattoria)\n",
      "* **La Casa di Pasta** (The House of Pasta)\n",
      "* **L'Osteria** (The Tavern)\n",
      "* **Il Ristorante Italiano** (The Italian Restaurant)\n"
     ]
    }
   ],
   "source": [
    "completion = palm.generate_text(\n",
    "    model=model,\n",
    "    prompt=\"I'm going to open an italian food restuarent. Suggest a name for it\",\n",
    "    temperature=0.6,\n",
    "    # The maximum length of the response\n",
    "    max_output_tokens=800,\n",
    ")\n",
    "\n",
    "print(completion.result)"
   ]
  },
  {
   "cell_type": "code",
   "execution_count": null,
   "id": "22d3819b-d0a7-40ca-b5ca-6d2569558eeb",
   "metadata": {},
   "outputs": [],
   "source": []
  }
 ],
 "metadata": {
  "kernelspec": {
   "display_name": "Python 3 (ipykernel)",
   "language": "python",
   "name": "python3"
  },
  "language_info": {
   "codemirror_mode": {
    "name": "ipython",
    "version": 3
   },
   "file_extension": ".py",
   "mimetype": "text/x-python",
   "name": "python",
   "nbconvert_exporter": "python",
   "pygments_lexer": "ipython3",
   "version": "3.12.3"
  }
 },
 "nbformat": 4,
 "nbformat_minor": 5
}
