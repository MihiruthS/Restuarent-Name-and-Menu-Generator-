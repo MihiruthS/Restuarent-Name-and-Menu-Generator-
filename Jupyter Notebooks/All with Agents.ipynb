{
 "cells": [
  {
   "cell_type": "code",
   "execution_count": 3,
   "id": "b67b907b-a548-4ff6-987e-6c060147c8f3",
   "metadata": {},
   "outputs": [],
   "source": [
    "from secret_key import openai_key\n",
    "import os\n",
    "os.environ['OPENAI_API_KEY'] = openai_key\n",
    "\n",
    "from langchain_community.llms import OpenAI\n",
    "from langchain.llms import OpenAI\n",
    "from langchain.prompts import PromptTemplate\n",
    "from langchain.chains import LLMChain\n",
    "from langchain.chains import SequentialChain\n",
    "\n",
    "llm = OpenAI(temperature = 0.6)"
   ]
  },
  {
   "cell_type": "code",
   "execution_count": 4,
   "id": "5378e6cd-c490-461c-9f87-949989246f11",
   "metadata": {},
   "outputs": [],
   "source": [
    "prompt_template_name = PromptTemplate(\n",
    "    input_variables = ['cuisine'],\n",
    "    template = \"I want to open an {cuisine} restaurant, suggest me a name for that. Give only 1 name\"\n",
    ")\n",
    "\n",
    "name_chain = LLMChain(llm = llm, prompt = prompt_template_name, output_key = 'restaurant_name')\n",
    "\n",
    "prompt_template_items = PromptTemplate(\n",
    "    input_variables = ['restaurant_name'],\n",
    "    template = \"Suggest 10 menu items for {restaurant_name}. give it as a comma seperatead list.\"\n",
    ")\n",
    "\n",
    "food_items_chain = LLMChain(llm = llm, prompt = prompt_template_items, output_key = 'menu_items')"
   ]
  },
  {
   "cell_type": "code",
   "execution_count": 5,
   "id": "25f37d8c-a281-449a-ae33-606d65ff2dac",
   "metadata": {},
   "outputs": [
    {
     "data": {
      "text/plain": [
       "{'cuisine': 'Arabic',\n",
       " 'restaurant_name': '\\n\\n\"Al-Jannah Cuisine\"',\n",
       " 'menu_items': '\\n\\n1. Shawarma platter\\n2. Falafel wrap\\n3. Hummus and pita appetizer\\n4. Lamb kebab skewers\\n5. Vegetarian moussaka\\n6. Chicken shish tawook\\n7. Baklava dessert\\n8. Spinach and feta borek\\n9. Beef kofta plate\\n10. Lentil soup'}"
      ]
     },
     "execution_count": 5,
     "metadata": {},
     "output_type": "execute_result"
    }
   ],
   "source": [
    "chain = SequentialChain(\n",
    "    chains = [name_chain, food_items_chain],\n",
    "    input_variables = ['cuisine'],\n",
    "    output_variables = ['restaurant_name','menu_items']\n",
    ")\n",
    "\n",
    "chain({'cuisine': 'Arabic'})"
   ]
  },
  {
   "cell_type": "code",
   "execution_count": 6,
   "id": "0e66793a-8f8c-4041-80e7-cd12243958c0",
   "metadata": {},
   "outputs": [
    {
     "data": {
      "text/plain": [
       "'Elon Musk was born on June 28, 1971 and will be 52 years old in 2023.'"
      ]
     },
     "execution_count": 6,
     "metadata": {},
     "output_type": "execute_result"
    }
   ],
   "source": [
    "from langchain.agents import AgentType, initialize_agent, load_tools\n",
    "\n",
    "tools = load_tools([\"wikipedia\", \"llm-math\"],llm = llm)\n",
    "\n",
    "agent = initialize_agent(\n",
    "    tools,\n",
    "    llm,\n",
    "    agent = AgentType.ZERO_SHOT_REACT_DESCRIPTION\n",
    ")\n",
    "\n",
    "agent.run(\"When was elon musk born and what is his age in 2023\")"
   ]
  },
  {
   "cell_type": "code",
   "execution_count": 7,
   "id": "bf1b7322-c7a8-4f45-8961-ba5ceb64d100",
   "metadata": {},
   "outputs": [
    {
     "name": "stdout",
     "output_type": "stream",
     "text": [
      "\n",
      "\n",
      "\"Taco Fiesta\"\n"
     ]
    }
   ],
   "source": [
    "from langchain.memory import ConversationBufferMemory\n",
    "\n",
    "memory = ConversationBufferMemory()\n",
    "\n",
    "chain = LLMChain(llm = llm, prompt = prompt_template_name, memory = memory)\n",
    "name = chain.run(\"Mexican\")\n",
    "print(name)"
   ]
  },
  {
   "cell_type": "code",
   "execution_count": 8,
   "id": "714033c0-536b-49ce-856f-55608d798c93",
   "metadata": {},
   "outputs": [
    {
     "name": "stdout",
     "output_type": "stream",
     "text": [
      "\n",
      "\n",
      "\"Spice Junction\"\n"
     ]
    }
   ],
   "source": [
    "name = chain.run(\"Indian\")\n",
    "print(name)"
   ]
  },
  {
   "cell_type": "code",
   "execution_count": 10,
   "id": "9a3fd4e4-724b-4567-bfee-22bce8741d6b",
   "metadata": {},
   "outputs": [
    {
     "name": "stdout",
     "output_type": "stream",
     "text": [
      "Human: Mexican\n",
      "AI: \n",
      "\n",
      "\"Taco Fiesta\"\n",
      "Human: Indian\n",
      "AI: \n",
      "\n",
      "\"Spice Junction\"\n"
     ]
    }
   ],
   "source": [
    "print(chain.memory.buffer)"
   ]
  },
  {
   "cell_type": "code",
   "execution_count": 11,
   "id": "0ce2ecfa-f8bb-4d95-b2c1-2ce3ba5c0fae",
   "metadata": {},
   "outputs": [
    {
     "name": "stdout",
     "output_type": "stream",
     "text": [
      "The following is a friendly conversation between a human and an AI. The AI is talkative and provides lots of specific details from its context. If the AI does not know the answer to a question, it truthfully says it does not know.\n",
      "\n",
      "Current conversation:\n",
      "{history}\n",
      "Human: {input}\n",
      "AI:\n"
     ]
    }
   ],
   "source": [
    "from langchain.chains import ConversationChain\n",
    "\n",
    "convo = ConversationChain(llm = OpenAI(temperature = 0.7))\n",
    "print(convo.prompt.template)"
   ]
  },
  {
   "cell_type": "code",
   "execution_count": 12,
   "id": "9ddc4fd2-611e-4a56-be7f-de1f41281a76",
   "metadata": {},
   "outputs": [
    {
     "data": {
      "text/plain": [
       "\" The first Cricket World Cup was held in 1975 and was won by the West Indies team. The tournament was a round-robin format, with eight teams competing. The final match was between West Indies and Australia, with West Indies winning by 17 runs. The player of the tournament was West Indies' Clive Lloyd, who scored 333 runs throughout the tournament.\""
      ]
     },
     "execution_count": 12,
     "metadata": {},
     "output_type": "execute_result"
    }
   ],
   "source": [
    "convo.run(\"Who won the first cricket world cup\")"
   ]
  },
  {
   "cell_type": "code",
   "execution_count": 13,
   "id": "e45b283f-b92f-4f03-8f80-0c74edeb3453",
   "metadata": {},
   "outputs": [
    {
     "data": {
      "text/plain": [
       "' The answer to 5+5 is 10.'"
      ]
     },
     "execution_count": 13,
     "metadata": {},
     "output_type": "execute_result"
    }
   ],
   "source": [
    "convo.run(\"what is 5+5\")"
   ]
  },
  {
   "cell_type": "code",
   "execution_count": 14,
   "id": "82af56e6-9453-4c8e-b006-3a2df4b65452",
   "metadata": {},
   "outputs": [
    {
     "data": {
      "text/plain": [
       "' The captain of the winning team, West Indies, was Clive Lloyd. He led the team to victory and was also named the player of the tournament.'"
      ]
     },
     "execution_count": 14,
     "metadata": {},
     "output_type": "execute_result"
    }
   ],
   "source": [
    "convo.run(\"who was the captain of the winning team\")"
   ]
  },
  {
   "cell_type": "code",
   "execution_count": 16,
   "id": "6656bab0-165b-463d-a81c-4348b4a5a71d",
   "metadata": {},
   "outputs": [
    {
     "name": "stdout",
     "output_type": "stream",
     "text": [
      "Human: Who won the first cricket world cup\n",
      "AI:  The first Cricket World Cup was held in 1975 and was won by the West Indies team. The tournament was a round-robin format, with eight teams competing. The final match was between West Indies and Australia, with West Indies winning by 17 runs. The player of the tournament was West Indies' Clive Lloyd, who scored 333 runs throughout the tournament.\n",
      "Human: what is 5+5\n",
      "AI:  The answer to 5+5 is 10.\n",
      "Human: who was the captain of the winning team\n",
      "AI:  The captain of the winning team, West Indies, was Clive Lloyd. He led the team to victory and was also named the player of the tournament.\n"
     ]
    }
   ],
   "source": [
    "print(convo.memory.buffer)"
   ]
  },
  {
   "cell_type": "code",
   "execution_count": 17,
   "id": "1826157a-f56e-4ed5-80f4-662d1c765fc0",
   "metadata": {},
   "outputs": [
    {
     "data": {
      "text/plain": [
       "\" The first cricket world cup was won by the West Indies in 1975. They defeated Australia in the final by 17 runs. The tournament was held in England and was organized by the International Cricket Council (ICC). The West Indies team was led by Clive Lloyd and had players such as Viv Richards, Gordon Greenidge, and Andy Roberts. The final was played at Lord's Cricket Ground in London.\""
      ]
     },
     "execution_count": 17,
     "metadata": {},
     "output_type": "execute_result"
    }
   ],
   "source": [
    "from langchain.memory import ConversationBufferWindowMemory\n",
    "\n",
    "memory = ConversationBufferWindowMemory(k=1)\n",
    "\n",
    "convo = ConversationChain(\n",
    "    llm = OpenAI(temperature = 0.6),\n",
    "    memory = memory\n",
    ")\n",
    "\n",
    "convo.run(\"Who won the first cricket world cup\")"
   ]
  },
  {
   "cell_type": "code",
   "execution_count": 18,
   "id": "eac0d649-8bfc-46a2-8c31-3c937c64b74c",
   "metadata": {},
   "outputs": [
    {
     "data": {
      "text/plain": [
       "' 5+5 is equal to 10.'"
      ]
     },
     "execution_count": 18,
     "metadata": {},
     "output_type": "execute_result"
    }
   ],
   "source": [
    "convo.run(\"what is 5+5\")"
   ]
  },
  {
   "cell_type": "code",
   "execution_count": 19,
   "id": "33a2566c-ce54-4169-86fd-36bf445b5fd0",
   "metadata": {},
   "outputs": [
    {
     "data": {
      "text/plain": [
       "' I am not sure which team you are referring to, but if you are talking about the recent Super Bowl, the captain of the winning team was Tom Brady. He plays for the Tampa Bay Buccaneers and has won seven Super Bowls in his career. Is there a specific team or sport you were asking about?'"
      ]
     },
     "execution_count": 19,
     "metadata": {},
     "output_type": "execute_result"
    }
   ],
   "source": [
    "convo.run(\"who was the captain of the winning team\")"
   ]
  },
  {
   "cell_type": "code",
   "execution_count": null,
   "id": "d09b4734-2911-44ba-bcc8-679c760ee94d",
   "metadata": {},
   "outputs": [],
   "source": []
  }
 ],
 "metadata": {
  "kernelspec": {
   "display_name": "Python 3 (ipykernel)",
   "language": "python",
   "name": "python3"
  },
  "language_info": {
   "codemirror_mode": {
    "name": "ipython",
    "version": 3
   },
   "file_extension": ".py",
   "mimetype": "text/x-python",
   "name": "python",
   "nbconvert_exporter": "python",
   "pygments_lexer": "ipython3",
   "version": "3.12.3"
  }
 },
 "nbformat": 4,
 "nbformat_minor": 5
}
